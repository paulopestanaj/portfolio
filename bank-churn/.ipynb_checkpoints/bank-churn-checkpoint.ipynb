{
 "cells": [
  {
   "cell_type": "markdown",
   "metadata": {
    "id": "3A8i8sLfLt7k"
   },
   "source": [
    "\n",
    "# Previsão de perda de clientes de um banco usando redes neurais<a name=\"top\"></a>\n",
    "![](header-churn.png)"
   ]
  },
  {
   "cell_type": "markdown",
   "metadata": {
    "id": "Y45wawDTPcDj"
   },
   "source": [
    "# Menu <a name=\"menu\"></a>\n",
    "1. [Descrição do Problema](#introducao)\n",
    "2. [Carregamento e pré-processamento de dados](#dataprep)\n",
    "3. [Dicionário de Dados](#dicio)\n",
    "4. [Análise exploratória dos dados](#analise_exp)\n",
    "5. [Preparação dos dados](#dataprep)\n",
    "6. [Implementação do modelo](#modelo)\n",
    "7. [Conclusão](#conclusao)"
   ]
  },
  {
   "cell_type": "markdown",
   "metadata": {
    "id": "QkiAXWsCVC82"
   },
   "source": [
    "## Descrição do Problema <a name=\"introducao\"></a>\n",
    "\n",
    "Dada a importância dos clientes como os ativos mais valiosos das organizações, a retenção de clientes parece ser um requisito básico essencial para qualquer organização. Os bancos não são exceção a esta regra. A atmosfera competitiva em que os serviços de banco eletrônico são fornecidos por diferentes bancos aumenta a necessidade de retenção de cliente.\n",
    "\n",
    "Bancos, seguradoras, empresas de serviços de streaming e empresas de serviços de telecom costumam usar a análise de rotatividade de clientes e as taxas de rotatividade de clientes como uma de suas principais métricas de negócios porque o custo de manter os clientes existentes é muito menor do que adquirir um novo.\n",
    "\n",
    "Esta análise centra-se no comportamento dos clientes bancários com maior probabilidade de deixar o banco (ou seja, encerrar a sua conta bancária). Quero descobrir os comportamentos mais marcantes dos clientes por meio da Análise Exploratória de Dados e, posteriormente, usar algumas das técnicas de análise preditiva para determinar os clientes com maior probabilidade de abandono.\n",
    "\n",
    "Para esse problema iremos utilizar uma base de um desafio do [Kaggle](https://www.kaggle.com/adammaus/predicting-churn-for-bank-customers).\n",
    "\n",
    "[Voltar ao início](#top)"
   ]
  },
  {
   "cell_type": "markdown",
   "metadata": {
    "id": "3Pyjk0qOZJDf"
   },
   "source": [
    "# Carregamento e pré-processamento de dados <a name=\"dataprep\"></a>"
   ]
  },
  {
   "cell_type": "code",
   "execution_count": 161,
   "metadata": {
    "id": "Bx5j8ajCTzP7"
   },
   "outputs": [],
   "source": [
    "import pandas as pd\n",
    "import numpy as np\n",
    "import matplotlib.pyplot as plt\n",
    "import seaborn as sns\n",
    "\n",
    "from sklearn.preprocessing import LabelEncoder, OneHotEncoder\n",
    "from sklearn.compose import make_column_transformer\n",
    "from sklearn.model_selection import train_test_split\n",
    "\n",
    "from sklearn.preprocessing import StandardScaler\n",
    "from sklearn.metrics import confusion_matrix,accuracy_score,recall_score,precision_score\n",
    "\n",
    "from keras.models import Sequential\n",
    "from keras.layers import Dense\n",
    "%matplotlib inline"
   ]
  },
  {
   "cell_type": "code",
   "execution_count": 114,
   "metadata": {
    "id": "osUpVRy0TzSp"
   },
   "outputs": [],
   "source": [
    "df = pd.read_csv('Churn_Modelling.csv')"
   ]
  },
  {
   "cell_type": "code",
   "execution_count": 115,
   "metadata": {
    "colab": {
     "base_uri": "https://localhost:8080/",
     "height": 202
    },
    "id": "XwZ3G8Z9TzUy",
    "outputId": "cc4f00f6-668d-4361-c024-a649d21860b7"
   },
   "outputs": [
    {
     "data": {
      "text/html": [
       "<div>\n",
       "<style scoped>\n",
       "    .dataframe tbody tr th:only-of-type {\n",
       "        vertical-align: middle;\n",
       "    }\n",
       "\n",
       "    .dataframe tbody tr th {\n",
       "        vertical-align: top;\n",
       "    }\n",
       "\n",
       "    .dataframe thead th {\n",
       "        text-align: right;\n",
       "    }\n",
       "</style>\n",
       "<table border=\"1\" class=\"dataframe\">\n",
       "  <thead>\n",
       "    <tr style=\"text-align: right;\">\n",
       "      <th></th>\n",
       "      <th>RowNumber</th>\n",
       "      <th>CustomerId</th>\n",
       "      <th>Surname</th>\n",
       "      <th>CreditScore</th>\n",
       "      <th>Geography</th>\n",
       "      <th>Gender</th>\n",
       "      <th>Age</th>\n",
       "      <th>Tenure</th>\n",
       "      <th>Balance</th>\n",
       "      <th>NumOfProducts</th>\n",
       "      <th>HasCrCard</th>\n",
       "      <th>IsActiveMember</th>\n",
       "      <th>EstimatedSalary</th>\n",
       "      <th>Exited</th>\n",
       "    </tr>\n",
       "  </thead>\n",
       "  <tbody>\n",
       "    <tr>\n",
       "      <th>0</th>\n",
       "      <td>1</td>\n",
       "      <td>15634602</td>\n",
       "      <td>Hargrave</td>\n",
       "      <td>619</td>\n",
       "      <td>France</td>\n",
       "      <td>Female</td>\n",
       "      <td>42</td>\n",
       "      <td>2</td>\n",
       "      <td>0.00</td>\n",
       "      <td>1</td>\n",
       "      <td>1</td>\n",
       "      <td>1</td>\n",
       "      <td>101348.88</td>\n",
       "      <td>1</td>\n",
       "    </tr>\n",
       "    <tr>\n",
       "      <th>1</th>\n",
       "      <td>2</td>\n",
       "      <td>15647311</td>\n",
       "      <td>Hill</td>\n",
       "      <td>608</td>\n",
       "      <td>Spain</td>\n",
       "      <td>Female</td>\n",
       "      <td>41</td>\n",
       "      <td>1</td>\n",
       "      <td>83807.86</td>\n",
       "      <td>1</td>\n",
       "      <td>0</td>\n",
       "      <td>1</td>\n",
       "      <td>112542.58</td>\n",
       "      <td>0</td>\n",
       "    </tr>\n",
       "    <tr>\n",
       "      <th>2</th>\n",
       "      <td>3</td>\n",
       "      <td>15619304</td>\n",
       "      <td>Onio</td>\n",
       "      <td>502</td>\n",
       "      <td>France</td>\n",
       "      <td>Female</td>\n",
       "      <td>42</td>\n",
       "      <td>8</td>\n",
       "      <td>159660.80</td>\n",
       "      <td>3</td>\n",
       "      <td>1</td>\n",
       "      <td>0</td>\n",
       "      <td>113931.57</td>\n",
       "      <td>1</td>\n",
       "    </tr>\n",
       "    <tr>\n",
       "      <th>3</th>\n",
       "      <td>4</td>\n",
       "      <td>15701354</td>\n",
       "      <td>Boni</td>\n",
       "      <td>699</td>\n",
       "      <td>France</td>\n",
       "      <td>Female</td>\n",
       "      <td>39</td>\n",
       "      <td>1</td>\n",
       "      <td>0.00</td>\n",
       "      <td>2</td>\n",
       "      <td>0</td>\n",
       "      <td>0</td>\n",
       "      <td>93826.63</td>\n",
       "      <td>0</td>\n",
       "    </tr>\n",
       "    <tr>\n",
       "      <th>4</th>\n",
       "      <td>5</td>\n",
       "      <td>15737888</td>\n",
       "      <td>Mitchell</td>\n",
       "      <td>850</td>\n",
       "      <td>Spain</td>\n",
       "      <td>Female</td>\n",
       "      <td>43</td>\n",
       "      <td>2</td>\n",
       "      <td>125510.82</td>\n",
       "      <td>1</td>\n",
       "      <td>1</td>\n",
       "      <td>1</td>\n",
       "      <td>79084.10</td>\n",
       "      <td>0</td>\n",
       "    </tr>\n",
       "  </tbody>\n",
       "</table>\n",
       "</div>"
      ],
      "text/plain": [
       "   RowNumber  CustomerId   Surname  ...  IsActiveMember EstimatedSalary Exited\n",
       "0          1    15634602  Hargrave  ...               1       101348.88      1\n",
       "1          2    15647311      Hill  ...               1       112542.58      0\n",
       "2          3    15619304      Onio  ...               0       113931.57      1\n",
       "3          4    15701354      Boni  ...               0        93826.63      0\n",
       "4          5    15737888  Mitchell  ...               1        79084.10      0\n",
       "\n",
       "[5 rows x 14 columns]"
      ]
     },
     "execution_count": 115,
     "metadata": {
      "tags": []
     },
     "output_type": "execute_result"
    }
   ],
   "source": [
    "df.head()"
   ]
  },
  {
   "cell_type": "markdown",
   "metadata": {
    "id": "AbDycvNxa8Qw"
   },
   "source": [
    "[Voltar ao início](#top)"
   ]
  },
  {
   "cell_type": "markdown",
   "metadata": {
    "id": "q4qSU-6dcL-Y"
   },
   "source": [
    "# Dicionário de Dados <a name=\"dicio\"></a>"
   ]
  },
  {
   "cell_type": "markdown",
   "metadata": {
    "id": "46Y0s_Qxcfx8"
   },
   "source": [
    "* **`RowNumber:`** Corresponde ao número do registro (linha).\n",
    "\n",
    "* **`CustomerId:`** Identificador único de cada cliente.\n",
    "\n",
    "* **`Surname:`** Sobrenome do cliente. \n",
    "\n",
    "* **`CreditScore:`** Pontuação de crédito do cliente. \n",
    "\n",
    "* **`Geography:`** País do cliente. \n",
    "\n",
    "* **`Gender:`** Gênero do cliente.\n",
    "\n",
    "* **`Age:`** Idade do cliente.\n",
    "\n",
    "* **`Tenure:`** Número de anos que o usuário é cliente do banco.\n",
    "\n",
    "* **`Balance:`** Saldo na conta no banco. \n",
    "\n",
    "* **`NumOfProducts:`** Número de produtos que um cliente comprou por meio do banco.\n",
    "\n",
    "* **`HasCrCard:`** Se um cliente possui ou não um cartão de crédito.\n",
    "\n",
    "* **`IsActiveMember:`** Se um cliente é ativo ou não.\n",
    "\n",
    "* **`EstimatedSalary:`** Salário estimado do cliente.\n",
    "\n",
    "* **`Exited:`** Se o cliente saiu ou não do banco.\n",
    "\n",
    "\n",
    "## Variáveis categóricas:\n",
    "\n",
    "`Geography` `Gender`  `HasCrCard` `IsActiveMember` \n",
    "`\n",
    "## Variáveis numéricas:\n",
    "\n",
    "`CustomerId` `CreditScore` `Age` `Tenure` `Balance` `EstimatedSalary` `NumOfProducts`\n",
    "\n",
    "## Variável alvo\n",
    "\n",
    "`Exited`"
   ]
  },
  {
   "cell_type": "markdown",
   "metadata": {
    "id": "LddJ67M4SPwj"
   },
   "source": [
    "# Análise exploratória dos dados <a name=\"analise_exp\"></a>\n",
    "\n",
    "Baseado no nosso dicionário de dados, podemos rapidamente concluir que algumas colunas são totalmente irrelevantes para a construção do modelo pois não impacatam na saída ou não de um cliente, tais como:\n",
    "\n",
    " `RowNumber` - `CustomerId`- `Surname`.\n",
    "\n",
    " Portanto, vamos retirar elas da nossa base e depois verificar as estátisticas básicas."
   ]
  },
  {
   "cell_type": "code",
   "execution_count": 116,
   "metadata": {
    "id": "FCmlFFaIhGgZ"
   },
   "outputs": [],
   "source": [
    "df.drop(['RowNumber','CustomerId', 'Surname'], axis=1, inplace=True)"
   ]
  },
  {
   "cell_type": "code",
   "execution_count": 117,
   "metadata": {
    "colab": {
     "base_uri": "https://localhost:8080/",
     "height": 294
    },
    "id": "xFRNwPdFbCFf",
    "outputId": "af7e62f1-176f-4018-de5b-6b9b7f298806"
   },
   "outputs": [
    {
     "data": {
      "text/html": [
       "<div>\n",
       "<style scoped>\n",
       "    .dataframe tbody tr th:only-of-type {\n",
       "        vertical-align: middle;\n",
       "    }\n",
       "\n",
       "    .dataframe tbody tr th {\n",
       "        vertical-align: top;\n",
       "    }\n",
       "\n",
       "    .dataframe thead th {\n",
       "        text-align: right;\n",
       "    }\n",
       "</style>\n",
       "<table border=\"1\" class=\"dataframe\">\n",
       "  <thead>\n",
       "    <tr style=\"text-align: right;\">\n",
       "      <th></th>\n",
       "      <th>CreditScore</th>\n",
       "      <th>Age</th>\n",
       "      <th>Tenure</th>\n",
       "      <th>Balance</th>\n",
       "      <th>NumOfProducts</th>\n",
       "      <th>HasCrCard</th>\n",
       "      <th>IsActiveMember</th>\n",
       "      <th>EstimatedSalary</th>\n",
       "      <th>Exited</th>\n",
       "    </tr>\n",
       "  </thead>\n",
       "  <tbody>\n",
       "    <tr>\n",
       "      <th>count</th>\n",
       "      <td>10000.000000</td>\n",
       "      <td>10000.000000</td>\n",
       "      <td>10000.000000</td>\n",
       "      <td>10000.000000</td>\n",
       "      <td>10000.000000</td>\n",
       "      <td>10000.00000</td>\n",
       "      <td>10000.000000</td>\n",
       "      <td>10000.000000</td>\n",
       "      <td>10000.000000</td>\n",
       "    </tr>\n",
       "    <tr>\n",
       "      <th>mean</th>\n",
       "      <td>650.528800</td>\n",
       "      <td>38.921800</td>\n",
       "      <td>5.012800</td>\n",
       "      <td>76485.889288</td>\n",
       "      <td>1.530200</td>\n",
       "      <td>0.70550</td>\n",
       "      <td>0.515100</td>\n",
       "      <td>100090.239881</td>\n",
       "      <td>0.203700</td>\n",
       "    </tr>\n",
       "    <tr>\n",
       "      <th>std</th>\n",
       "      <td>96.653299</td>\n",
       "      <td>10.487806</td>\n",
       "      <td>2.892174</td>\n",
       "      <td>62397.405202</td>\n",
       "      <td>0.581654</td>\n",
       "      <td>0.45584</td>\n",
       "      <td>0.499797</td>\n",
       "      <td>57510.492818</td>\n",
       "      <td>0.402769</td>\n",
       "    </tr>\n",
       "    <tr>\n",
       "      <th>min</th>\n",
       "      <td>350.000000</td>\n",
       "      <td>18.000000</td>\n",
       "      <td>0.000000</td>\n",
       "      <td>0.000000</td>\n",
       "      <td>1.000000</td>\n",
       "      <td>0.00000</td>\n",
       "      <td>0.000000</td>\n",
       "      <td>11.580000</td>\n",
       "      <td>0.000000</td>\n",
       "    </tr>\n",
       "    <tr>\n",
       "      <th>25%</th>\n",
       "      <td>584.000000</td>\n",
       "      <td>32.000000</td>\n",
       "      <td>3.000000</td>\n",
       "      <td>0.000000</td>\n",
       "      <td>1.000000</td>\n",
       "      <td>0.00000</td>\n",
       "      <td>0.000000</td>\n",
       "      <td>51002.110000</td>\n",
       "      <td>0.000000</td>\n",
       "    </tr>\n",
       "    <tr>\n",
       "      <th>50%</th>\n",
       "      <td>652.000000</td>\n",
       "      <td>37.000000</td>\n",
       "      <td>5.000000</td>\n",
       "      <td>97198.540000</td>\n",
       "      <td>1.000000</td>\n",
       "      <td>1.00000</td>\n",
       "      <td>1.000000</td>\n",
       "      <td>100193.915000</td>\n",
       "      <td>0.000000</td>\n",
       "    </tr>\n",
       "    <tr>\n",
       "      <th>75%</th>\n",
       "      <td>718.000000</td>\n",
       "      <td>44.000000</td>\n",
       "      <td>7.000000</td>\n",
       "      <td>127644.240000</td>\n",
       "      <td>2.000000</td>\n",
       "      <td>1.00000</td>\n",
       "      <td>1.000000</td>\n",
       "      <td>149388.247500</td>\n",
       "      <td>0.000000</td>\n",
       "    </tr>\n",
       "    <tr>\n",
       "      <th>max</th>\n",
       "      <td>850.000000</td>\n",
       "      <td>92.000000</td>\n",
       "      <td>10.000000</td>\n",
       "      <td>250898.090000</td>\n",
       "      <td>4.000000</td>\n",
       "      <td>1.00000</td>\n",
       "      <td>1.000000</td>\n",
       "      <td>199992.480000</td>\n",
       "      <td>1.000000</td>\n",
       "    </tr>\n",
       "  </tbody>\n",
       "</table>\n",
       "</div>"
      ],
      "text/plain": [
       "        CreditScore           Age  ...  EstimatedSalary        Exited\n",
       "count  10000.000000  10000.000000  ...     10000.000000  10000.000000\n",
       "mean     650.528800     38.921800  ...    100090.239881      0.203700\n",
       "std       96.653299     10.487806  ...     57510.492818      0.402769\n",
       "min      350.000000     18.000000  ...        11.580000      0.000000\n",
       "25%      584.000000     32.000000  ...     51002.110000      0.000000\n",
       "50%      652.000000     37.000000  ...    100193.915000      0.000000\n",
       "75%      718.000000     44.000000  ...    149388.247500      0.000000\n",
       "max      850.000000     92.000000  ...    199992.480000      1.000000\n",
       "\n",
       "[8 rows x 9 columns]"
      ]
     },
     "execution_count": 117,
     "metadata": {
      "tags": []
     },
     "output_type": "execute_result"
    }
   ],
   "source": [
    "df.describe()"
   ]
  },
  {
   "cell_type": "markdown",
   "metadata": {
    "id": "LNoDUTdvhau6"
   },
   "source": [
    "Podemos plotar um histograma da nossa base para verificar as distribuções"
   ]
  },
  {
   "cell_type": "code",
   "execution_count": 118,
   "metadata": {
    "colab": {
     "base_uri": "https://localhost:8080/",
     "height": 715
    },
    "id": "k5FO-3_Wbv72",
    "outputId": "20eeaf90-61a8-4f53-ab84-9c39dab1e0d7"
   },
   "outputs": [
    {
     "data": {
      "image/png": "[encoded data removed]",
      "text/plain": [
       "<Figure size 1080x864 with 9 Axes>"
      ]
     },
     "metadata": {
      "needs_background": "light",
      "tags": []
     },
     "output_type": "display_data"
    }
   ],
   "source": [
    "df.hist(figsize=(15,12),bins = 15);"
   ]
  },
  {
   "cell_type": "markdown",
   "metadata": {
    "id": "Nhlzyeb2hapm"
   },
   "source": [
    "Já de cara, podemos ver o quão desbalanceada nossa base é, concordam? <br>\n",
    "O número de clientes que ficou no banco é bem maior do que os números que saíram. 8000 x 2000 <br>\n",
    "Podemos usar algumas técnicas para balancear melhor essas classes. Vamos voltar nessa ponto em breve.\n",
    "\n",
    "Consigo tirar alguns outros insights dessa visualização:\n",
    "\n",
    "* Poucos clientes têm menos de 550 pontos de crédito.\n",
    "* Poucos clientes têm mais de 45 anos e ainda menos clientes na faixa etária de 60 a 80 anos\n",
    "* O número de clientes com saldo zerado é muito alto.\n",
    "* A maior parte dos clientes comprou 1 ou 2 produtos.\n",
    "* A maior parte dos clientes possui cartão de crédito.\n",
    "* Existe uma distribuição heterogênea dos salários estimados e dos anos de fielidade do cliente.\n",
    "\n"
   ]
  },
  {
   "cell_type": "markdown",
   "metadata": {
    "id": "uZdUY-Z2mlU8"
   },
   "source": [
    "Vamos analisar as variáveis categóricas agora"
   ]
  },
  {
   "cell_type": "code",
   "execution_count": 119,
   "metadata": {
    "id": "IicskygOqIEq"
   },
   "outputs": [],
   "source": [
    "categorias=[\"Gender\",'Geography']"
   ]
  },
  {
   "cell_type": "code",
   "execution_count": 120,
   "metadata": {
    "id": "4MJRGdrXozb2"
   },
   "outputs": [],
   "source": [
    "def categorias_count(c):\n",
    "  plt.figure(figsize=(9,3))\n",
    "  sns.countplot(y=df[c] ,data=df)\n",
    "  plt.show()\n",
    "  print(f\"{c}: \\n {df[c].value_counts()} \\n\")"
   ]
  },
  {
   "cell_type": "code",
   "execution_count": 121,
   "metadata": {
    "colab": {
     "base_uri": "https://localhost:8080/",
     "height": 616
    },
    "id": "NwHVMDFnqKTz",
    "outputId": "b032a0ef-e98e-4f39-f8a0-417951def11b"
   },
   "outputs": [
    {
     "data": {
      "image/png": "[encoded data removed]",
      "text/plain": [
       "<Figure size 648x216 with 1 Axes>"
      ]
     },
     "metadata": {
      "needs_background": "light",
      "tags": []
     },
     "output_type": "display_data"
    },
    {
     "name": "stdout",
     "output_type": "stream",
     "text": [
      "Gender: \n",
      " Male      5457\n",
      "Female    4543\n",
      "Name: Gender, dtype: int64 \n",
      "\n"
     ]
    },
    {
     "data": {
      "image/png": "[encoded data removed]",
      "text/plain": [
       "<Figure size 648x216 with 1 Axes>"
      ]
     },
     "metadata": {
      "needs_background": "light",
      "tags": []
     },
     "output_type": "display_data"
    },
    {
     "name": "stdout",
     "output_type": "stream",
     "text": [
      "Geography: \n",
      " France     5014\n",
      "Germany    2509\n",
      "Spain      2477\n",
      "Name: Geography, dtype: int64 \n",
      "\n"
     ]
    }
   ],
   "source": [
    "for c in categorias:\n",
    "    categorias_count(c)"
   ]
  },
  {
   "cell_type": "markdown",
   "metadata": {
    "id": "eLU8oMcRq471"
   },
   "source": [
    "Podemos observar que:\n",
    "\n",
    "- O número de clientes do sexo masculino é ligeiramente superior ao número de clientes do sexo feminino.\n",
    "- Praticamente metade dos clientes são da França, sendo o restante bem dividido entre Espanha e Alemanha."
   ]
  },
  {
   "cell_type": "markdown",
   "metadata": {
    "id": "HI2McDHnbABB"
   },
   "source": [
    "[Voltar ao início](#top)"
   ]
  },
  {
   "cell_type": "markdown",
   "metadata": {
    "id": "zxzZ733wuOuY"
   },
   "source": [
    "# Preparação dos dados <a name=\"dataprep\"></a>\n"
   ]
  },
  {
   "cell_type": "markdown",
   "metadata": {
    "id": "oVxoEGkHsfz1"
   },
   "source": [
    "Apesar de serem representadas por números, algumas variáveis são consideradas categóricas por serem boleanas (0 ou 1) representando sim ou não. Podemos usar uma transformação para nossas variaveis categóricas se tornarem também numéricas para nosso modelo.\n",
    "\n",
    "Existem dois métodos que podemos usar que são *LabelEncoder* e o *OneHotEncoder*."
   ]
  },
  {
   "cell_type": "markdown",
   "metadata": {
    "id": "TP41mTMbwycO"
   },
   "source": [
    "Vou usar o LabelEncoder para as variáveis `Geography` e `Gender`. Depois aplicar o OneHotEncoder no país para o modelo nao interpretar com pesos maiores os valores maiores.\n",
    "\n"
   ]
  },
  {
   "cell_type": "code",
   "execution_count": 122,
   "metadata": {
    "id": "caWPsqT2w-zu"
   },
   "outputs": [],
   "source": [
    "le = LabelEncoder()\n"
   ]
  },
  {
   "cell_type": "code",
   "execution_count": 123,
   "metadata": {
    "id": "iVf1Qg0fw-vw"
   },
   "outputs": [],
   "source": [
    "df['Geography'] = le.fit_transform(df['Geography'])\n",
    "df['Gender'] = le.fit_transform(df['Gender'])"
   ]
  },
  {
   "cell_type": "code",
   "execution_count": 124,
   "metadata": {
    "colab": {
     "base_uri": "https://localhost:8080/",
     "height": 414
    },
    "id": "eHxMbU4Hvy9i",
    "outputId": "ca06200c-4995-4cf4-9c43-56c8573b7c70"
   },
   "outputs": [
    {
     "data": {
      "text/html": [
       "<div>\n",
       "<style scoped>\n",
       "    .dataframe tbody tr th:only-of-type {\n",
       "        vertical-align: middle;\n",
       "    }\n",
       "\n",
       "    .dataframe tbody tr th {\n",
       "        vertical-align: top;\n",
       "    }\n",
       "\n",
       "    .dataframe thead th {\n",
       "        text-align: right;\n",
       "    }\n",
       "</style>\n",
       "<table border=\"1\" class=\"dataframe\">\n",
       "  <thead>\n",
       "    <tr style=\"text-align: right;\">\n",
       "      <th></th>\n",
       "      <th>CreditScore</th>\n",
       "      <th>Geography</th>\n",
       "      <th>Gender</th>\n",
       "      <th>Age</th>\n",
       "      <th>Tenure</th>\n",
       "      <th>Balance</th>\n",
       "      <th>NumOfProducts</th>\n",
       "      <th>HasCrCard</th>\n",
       "      <th>IsActiveMember</th>\n",
       "      <th>EstimatedSalary</th>\n",
       "      <th>Exited</th>\n",
       "    </tr>\n",
       "  </thead>\n",
       "  <tbody>\n",
       "    <tr>\n",
       "      <th>0</th>\n",
       "      <td>619</td>\n",
       "      <td>0</td>\n",
       "      <td>0</td>\n",
       "      <td>42</td>\n",
       "      <td>2</td>\n",
       "      <td>0.00</td>\n",
       "      <td>1</td>\n",
       "      <td>1</td>\n",
       "      <td>1</td>\n",
       "      <td>101348.88</td>\n",
       "      <td>1</td>\n",
       "    </tr>\n",
       "    <tr>\n",
       "      <th>1</th>\n",
       "      <td>608</td>\n",
       "      <td>2</td>\n",
       "      <td>0</td>\n",
       "      <td>41</td>\n",
       "      <td>1</td>\n",
       "      <td>83807.86</td>\n",
       "      <td>1</td>\n",
       "      <td>0</td>\n",
       "      <td>1</td>\n",
       "      <td>112542.58</td>\n",
       "      <td>0</td>\n",
       "    </tr>\n",
       "    <tr>\n",
       "      <th>2</th>\n",
       "      <td>502</td>\n",
       "      <td>0</td>\n",
       "      <td>0</td>\n",
       "      <td>42</td>\n",
       "      <td>8</td>\n",
       "      <td>159660.80</td>\n",
       "      <td>3</td>\n",
       "      <td>1</td>\n",
       "      <td>0</td>\n",
       "      <td>113931.57</td>\n",
       "      <td>1</td>\n",
       "    </tr>\n",
       "    <tr>\n",
       "      <th>3</th>\n",
       "      <td>699</td>\n",
       "      <td>0</td>\n",
       "      <td>0</td>\n",
       "      <td>39</td>\n",
       "      <td>1</td>\n",
       "      <td>0.00</td>\n",
       "      <td>2</td>\n",
       "      <td>0</td>\n",
       "      <td>0</td>\n",
       "      <td>93826.63</td>\n",
       "      <td>0</td>\n",
       "    </tr>\n",
       "    <tr>\n",
       "      <th>4</th>\n",
       "      <td>850</td>\n",
       "      <td>2</td>\n",
       "      <td>0</td>\n",
       "      <td>43</td>\n",
       "      <td>2</td>\n",
       "      <td>125510.82</td>\n",
       "      <td>1</td>\n",
       "      <td>1</td>\n",
       "      <td>1</td>\n",
       "      <td>79084.10</td>\n",
       "      <td>0</td>\n",
       "    </tr>\n",
       "    <tr>\n",
       "      <th>...</th>\n",
       "      <td>...</td>\n",
       "      <td>...</td>\n",
       "      <td>...</td>\n",
       "      <td>...</td>\n",
       "      <td>...</td>\n",
       "      <td>...</td>\n",
       "      <td>...</td>\n",
       "      <td>...</td>\n",
       "      <td>...</td>\n",
       "      <td>...</td>\n",
       "      <td>...</td>\n",
       "    </tr>\n",
       "    <tr>\n",
       "      <th>9995</th>\n",
       "      <td>771</td>\n",
       "      <td>0</td>\n",
       "      <td>1</td>\n",
       "      <td>39</td>\n",
       "      <td>5</td>\n",
       "      <td>0.00</td>\n",
       "      <td>2</td>\n",
       "      <td>1</td>\n",
       "      <td>0</td>\n",
       "      <td>96270.64</td>\n",
       "      <td>0</td>\n",
       "    </tr>\n",
       "    <tr>\n",
       "      <th>9996</th>\n",
       "      <td>516</td>\n",
       "      <td>0</td>\n",
       "      <td>1</td>\n",
       "      <td>35</td>\n",
       "      <td>10</td>\n",
       "      <td>57369.61</td>\n",
       "      <td>1</td>\n",
       "      <td>1</td>\n",
       "      <td>1</td>\n",
       "      <td>101699.77</td>\n",
       "      <td>0</td>\n",
       "    </tr>\n",
       "    <tr>\n",
       "      <th>9997</th>\n",
       "      <td>709</td>\n",
       "      <td>0</td>\n",
       "      <td>0</td>\n",
       "      <td>36</td>\n",
       "      <td>7</td>\n",
       "      <td>0.00</td>\n",
       "      <td>1</td>\n",
       "      <td>0</td>\n",
       "      <td>1</td>\n",
       "      <td>42085.58</td>\n",
       "      <td>1</td>\n",
       "    </tr>\n",
       "    <tr>\n",
       "      <th>9998</th>\n",
       "      <td>772</td>\n",
       "      <td>1</td>\n",
       "      <td>1</td>\n",
       "      <td>42</td>\n",
       "      <td>3</td>\n",
       "      <td>75075.31</td>\n",
       "      <td>2</td>\n",
       "      <td>1</td>\n",
       "      <td>0</td>\n",
       "      <td>92888.52</td>\n",
       "      <td>1</td>\n",
       "    </tr>\n",
       "    <tr>\n",
       "      <th>9999</th>\n",
       "      <td>792</td>\n",
       "      <td>0</td>\n",
       "      <td>0</td>\n",
       "      <td>28</td>\n",
       "      <td>4</td>\n",
       "      <td>130142.79</td>\n",
       "      <td>1</td>\n",
       "      <td>1</td>\n",
       "      <td>0</td>\n",
       "      <td>38190.78</td>\n",
       "      <td>0</td>\n",
       "    </tr>\n",
       "  </tbody>\n",
       "</table>\n",
       "<p>10000 rows × 11 columns</p>\n",
       "</div>"
      ],
      "text/plain": [
       "      CreditScore  Geography  Gender  ...  IsActiveMember  EstimatedSalary  Exited\n",
       "0             619          0       0  ...               1        101348.88       1\n",
       "1             608          2       0  ...               1        112542.58       0\n",
       "2             502          0       0  ...               0        113931.57       1\n",
       "3             699          0       0  ...               0         93826.63       0\n",
       "4             850          2       0  ...               1         79084.10       0\n",
       "...           ...        ...     ...  ...             ...              ...     ...\n",
       "9995          771          0       1  ...               0         96270.64       0\n",
       "9996          516          0       1  ...               1        101699.77       0\n",
       "9997          709          0       0  ...               1         42085.58       1\n",
       "9998          772          1       1  ...               0         92888.52       1\n",
       "9999          792          0       0  ...               0         38190.78       0\n",
       "\n",
       "[10000 rows x 11 columns]"
      ]
     },
     "execution_count": 124,
     "metadata": {
      "tags": []
     },
     "output_type": "execute_result"
    }
   ],
   "source": [
    "df"
   ]
  },
  {
   "cell_type": "markdown",
   "metadata": {
    "id": "b-dS8O4Gz32z"
   },
   "source": [
    "Vamos separar nosso dataframe agora para realizar um OneHotEncoder, isolando nossa variável alvo."
   ]
  },
  {
   "cell_type": "code",
   "execution_count": 125,
   "metadata": {
    "id": "T6xKIKRUxo38"
   },
   "outputs": [],
   "source": [
    "X = df.iloc[:,0:-1].values\n",
    "y = df.iloc[:,-1].values"
   ]
  },
  {
   "cell_type": "markdown",
   "metadata": {
    "id": "Q2FE1ue80ZRV"
   },
   "source": [
    "Transformados nosso dataframe em array, podemos aplicar um OneHotEncoder e remover uma das colunas geradas em país para evitar o ***dummy trap***."
   ]
  },
  {
   "cell_type": "code",
   "execution_count": 126,
   "metadata": {
    "id": "H5JUOaqWy6j1"
   },
   "outputs": [],
   "source": [
    "ohe = make_column_transformer((OneHotEncoder(categories='auto', sparse = False), [1]), remainder=\"passthrough\")\n",
    "\n",
    "X=ohe.fit_transform(X)\n",
    "X = X[:,1:]"
   ]
  },
  {
   "cell_type": "markdown",
   "metadata": {
    "id": "ba9yCTo01yK0"
   },
   "source": [
    "[Voltar ao início](#top)"
   ]
  },
  {
   "cell_type": "markdown",
   "metadata": {
    "id": "j6CT5JiF13_P"
   },
   "source": [
    "# Implementação do modelo de rede neural <a name=\"modelo\"></a>"
   ]
  },
  {
   "cell_type": "markdown",
   "metadata": {
    "id": "ZS3cPigw3MUg"
   },
   "source": [
    "## Split & Featuring Scalling"
   ]
  },
  {
   "cell_type": "markdown",
   "metadata": {
    "id": "INHpfw-f2CWv"
   },
   "source": [
    "Pra começar precisamos dividir nossa base de dados em treino e teste"
   ]
  },
  {
   "cell_type": "code",
   "execution_count": 127,
   "metadata": {
    "id": "X9vVIQ892Fpy"
   },
   "outputs": [],
   "source": [
    "X_train, X_test, y_train, y_test = train_test_split(X, y, test_size = 0.2, random_state = 0)"
   ]
  },
  {
   "cell_type": "markdown",
   "metadata": {
    "id": "fI02TeP62beJ"
   },
   "source": [
    "Após os dados divididos, precisamos realizar  **FeaturingScalling** nos dados, que seria colocar todos eles numa mesma escala, também conhecida como padronização dos dados.<br>\n",
    "Vamos usar o metodo StandardScaler."
   ]
  },
  {
   "cell_type": "code",
   "execution_count": 128,
   "metadata": {
    "id": "kIzVKYLw2jye"
   },
   "outputs": [],
   "source": [
    "sc = StandardScaler()\n",
    "X_train = sc.fit_transform(X_train)\n",
    "X_test = sc.transform(X_test)"
   ]
  },
  {
   "cell_type": "markdown",
   "metadata": {
    "id": "2YoyQ35r3VjO"
   },
   "source": [
    "## Aplicando o modelo de redes neurais"
   ]
  },
  {
   "cell_type": "code",
   "execution_count": 129,
   "metadata": {
    "id": "_iH0p3e43ad-"
   },
   "outputs": [],
   "source": [
    "class_churn = Sequential()\n",
    "class_churn.add(Dense(units = 6, kernel_initializer = 'uniform', activation = 'relu', input_dim = 11))\n",
    "class_churn.add(Dense(units = 6, kernel_initializer = 'uniform', activation = 'relu'))\n",
    "class_churn.add(Dense(units = 1, kernel_initializer = 'uniform', activation = 'sigmoid'))\n"
   ]
  },
  {
   "cell_type": "markdown",
   "metadata": {
    "id": "gu7iuvHb3ehZ"
   },
   "source": [
    "O que fizemos no código acima?\n",
    "\n",
    "1. Instanciamos uma variável chamada `class_churn`  com o método `Sequential()` pra iniciar a nossa rede neural.\n",
    "2. Adicionamos nossa camada de entrdada com o método `Dense`, parametrizando ela com 6 neuronios (`units`), com pesos uniformemente inicializados (`kernel_initializer`), a função de ativação como **relu** (`activation`) e como é nossa camada de entrada precisamos informar o número de nós de entrada, que são os nossos 11 atributos preditores (`input_dim`).\n",
    "3. Adicionamos mais uma camada oculta, praticamente igual a anterior, retirando somente o `input_dim` pois não é uma camada de entrada.\n",
    "4. Adicionamos agora nossa camada de saída, configurando com 1 neurónio, mudando nossa função de ativação para **sigmoid**, pois temos um problema de classifacação binária podendo também receber os valores percentuais de pertencimento."
   ]
  },
  {
   "cell_type": "markdown",
   "metadata": {
    "id": "j9lRkJQH5sQQ"
   },
   "source": [
    "E chegar ao número ideal de neuronios a serem parametrizados? <br>\n",
    "Não existe uma resposta certa ou errada para essa pergunta, isso é feito a partir de experimentações, porém se quiser começar com uma base, pode usar a média do número de nós da camada de entrada com a da camada de saída.<br>\n",
    "No nosso caso, como temos 11 nós de entrada e 1 de saída, usei 6 para definir o número de neuronios da camada"
   ]
  },
  {
   "cell_type": "markdown",
   "metadata": {
    "id": "CFW8BKd88aRC"
   },
   "source": [
    "Agora vamos configurar o modelo:\n",
    "\n",
    "1. Iremos usar um otimizador **adam** para achar nosso pesos ideais por usar um Stochastic Gradient Descendent.\n",
    "2. Na nossa função de perda (loss function), podemos usar o **binary_crossentropy** por nossa variável alvo ser binária.\n",
    "3. Como métrica usaremos a a acurácia (**accuracy**)."
   ]
  },
  {
   "cell_type": "code",
   "execution_count": 130,
   "metadata": {
    "id": "El6-k3RF-uIM"
   },
   "outputs": [],
   "source": [
    "class_churn.compile(optimizer = 'adam', loss = 'binary_crossentropy', metrics=['accuracy'])"
   ]
  },
  {
   "cell_type": "markdown",
   "metadata": {
    "id": "GSiTwGxy-qxF"
   },
   "source": [
    "Agora, enfim, podemos treinar nosso modelo passando nossos dados de treino.\n",
    "\n",
    "1. Passamos nossos dados de treino (X_train e y_train).\n",
    "2. Definimos o valor da 'batelada' em 10 (`batch_size`), que são quantos registros o modelo pegar antes de atualizar os pesos.\n",
    "3. E o número de épocas (`epochs`), que seria quantas vezes todo o conjunto de dados vai passar pela rede neural."
   ]
  },
  {
   "cell_type": "code",
   "execution_count": 131,
   "metadata": {
    "colab": {
     "base_uri": "https://localhost:8080/"
    },
    "id": "uF2mJvxC1xkv",
    "outputId": "63d9348e-2475-48ec-8dd7-d53f58f850aa"
   },
   "outputs": [
    {
     "name": "stdout",
     "output_type": "stream",
     "text": [
      "Epoch 1/100\n",
      "800/800 [==============================] - 2s 1ms/step - loss: 0.5707 - accuracy: 0.7898\n",
      "Epoch 2/100\n",
      "800/800 [==============================] - 1s 1ms/step - loss: 0.4269 - accuracy: 0.7972\n",
      "Epoch 3/100\n",
      "800/800 [==============================] - 1s 1ms/step - loss: 0.4250 - accuracy: 0.8037\n",
      "Epoch 4/100\n",
      "800/800 [==============================] - 1s 1ms/step - loss: 0.4190 - accuracy: 0.8311\n",
      "Epoch 5/100\n",
      "800/800 [==============================] - 1s 1ms/step - loss: 0.4106 - accuracy: 0.8355\n",
      "Epoch 6/100\n",
      "800/800 [==============================] - 1s 1ms/step - loss: 0.4054 - accuracy: 0.8393\n",
      "Epoch 7/100\n",
      "800/800 [==============================] - 1s 1ms/step - loss: 0.3950 - accuracy: 0.8381\n",
      "Epoch 8/100\n",
      "800/800 [==============================] - 1s 1ms/step - loss: 0.4030 - accuracy: 0.8375\n",
      "Epoch 9/100\n",
      "800/800 [==============================] - 1s 1ms/step - loss: 0.4137 - accuracy: 0.8252\n",
      "Epoch 10/100\n",
      "800/800 [==============================] - 1s 1ms/step - loss: 0.3986 - accuracy: 0.8375\n",
      "Epoch 11/100\n",
      "800/800 [==============================] - 1s 1ms/step - loss: 0.4071 - accuracy: 0.8309\n",
      "Epoch 12/100\n",
      "800/800 [==============================] - 1s 1ms/step - loss: 0.3960 - accuracy: 0.8351\n",
      "Epoch 13/100\n",
      "800/800 [==============================] - 1s 1ms/step - loss: 0.3976 - accuracy: 0.8381\n",
      "Epoch 14/100\n",
      "800/800 [==============================] - 1s 1ms/step - loss: 0.3884 - accuracy: 0.8401\n",
      "Epoch 15/100\n",
      "800/800 [==============================] - 1s 1ms/step - loss: 0.3930 - accuracy: 0.8386\n",
      "Epoch 16/100\n",
      "800/800 [==============================] - 1s 1ms/step - loss: 0.3948 - accuracy: 0.8366\n",
      "Epoch 17/100\n",
      "800/800 [==============================] - 1s 1ms/step - loss: 0.3812 - accuracy: 0.8397\n",
      "Epoch 18/100\n",
      "800/800 [==============================] - 1s 1ms/step - loss: 0.4050 - accuracy: 0.8309\n",
      "Epoch 19/100\n",
      "800/800 [==============================] - 1s 1ms/step - loss: 0.3937 - accuracy: 0.8347\n",
      "Epoch 20/100\n",
      "800/800 [==============================] - 1s 1ms/step - loss: 0.4014 - accuracy: 0.8342\n",
      "Epoch 21/100\n",
      "800/800 [==============================] - 1s 1ms/step - loss: 0.3889 - accuracy: 0.8348\n",
      "Epoch 22/100\n",
      "800/800 [==============================] - 1s 1ms/step - loss: 0.3791 - accuracy: 0.8449\n",
      "Epoch 23/100\n",
      "800/800 [==============================] - 1s 1ms/step - loss: 0.3883 - accuracy: 0.8386\n",
      "Epoch 24/100\n",
      "800/800 [==============================] - 1s 1ms/step - loss: 0.3889 - accuracy: 0.8393\n",
      "Epoch 25/100\n",
      "800/800 [==============================] - 1s 1ms/step - loss: 0.3855 - accuracy: 0.8366\n",
      "Epoch 26/100\n",
      "800/800 [==============================] - 1s 1ms/step - loss: 0.3872 - accuracy: 0.8408\n",
      "Epoch 27/100\n",
      "800/800 [==============================] - 1s 1ms/step - loss: 0.4033 - accuracy: 0.8313\n",
      "Epoch 28/100\n",
      "800/800 [==============================] - 1s 1ms/step - loss: 0.3916 - accuracy: 0.8373\n",
      "Epoch 29/100\n",
      "800/800 [==============================] - 1s 1ms/step - loss: 0.3966 - accuracy: 0.8381\n",
      "Epoch 30/100\n",
      "800/800 [==============================] - 1s 1ms/step - loss: 0.3942 - accuracy: 0.8363\n",
      "Epoch 31/100\n",
      "800/800 [==============================] - 1s 1ms/step - loss: 0.3877 - accuracy: 0.8386\n",
      "Epoch 32/100\n",
      "800/800 [==============================] - 1s 1ms/step - loss: 0.3943 - accuracy: 0.8389\n",
      "Epoch 33/100\n",
      "800/800 [==============================] - 1s 1ms/step - loss: 0.3907 - accuracy: 0.8382\n",
      "Epoch 34/100\n",
      "800/800 [==============================] - 1s 1ms/step - loss: 0.3912 - accuracy: 0.8418\n",
      "Epoch 35/100\n",
      "800/800 [==============================] - 1s 1ms/step - loss: 0.3904 - accuracy: 0.8384\n",
      "Epoch 36/100\n",
      "800/800 [==============================] - 1s 1ms/step - loss: 0.3873 - accuracy: 0.8395\n",
      "Epoch 37/100\n",
      "800/800 [==============================] - 1s 1ms/step - loss: 0.3847 - accuracy: 0.8368\n",
      "Epoch 38/100\n",
      "800/800 [==============================] - 1s 1ms/step - loss: 0.3866 - accuracy: 0.8367\n",
      "Epoch 39/100\n",
      "800/800 [==============================] - 1s 1ms/step - loss: 0.3817 - accuracy: 0.8420\n",
      "Epoch 40/100\n",
      "800/800 [==============================] - 1s 1ms/step - loss: 0.3817 - accuracy: 0.8395\n",
      "Epoch 41/100\n",
      "800/800 [==============================] - 1s 1ms/step - loss: 0.3848 - accuracy: 0.8317\n",
      "Epoch 42/100\n",
      "800/800 [==============================] - 1s 1ms/step - loss: 0.3802 - accuracy: 0.8376\n",
      "Epoch 43/100\n",
      "800/800 [==============================] - 1s 1ms/step - loss: 0.3766 - accuracy: 0.8417\n",
      "Epoch 44/100\n",
      "800/800 [==============================] - 1s 1ms/step - loss: 0.3775 - accuracy: 0.8357\n",
      "Epoch 45/100\n",
      "800/800 [==============================] - 1s 1ms/step - loss: 0.3754 - accuracy: 0.8390\n",
      "Epoch 46/100\n",
      "800/800 [==============================] - 1s 1ms/step - loss: 0.3769 - accuracy: 0.8323\n",
      "Epoch 47/100\n",
      "800/800 [==============================] - 1s 1ms/step - loss: 0.3666 - accuracy: 0.8461\n",
      "Epoch 48/100\n",
      "800/800 [==============================] - 1s 1ms/step - loss: 0.3580 - accuracy: 0.8577\n",
      "Epoch 49/100\n",
      "800/800 [==============================] - 1s 1ms/step - loss: 0.3421 - accuracy: 0.8636\n",
      "Epoch 50/100\n",
      "800/800 [==============================] - 1s 1ms/step - loss: 0.3496 - accuracy: 0.8627\n",
      "Epoch 51/100\n",
      "800/800 [==============================] - 1s 1ms/step - loss: 0.3393 - accuracy: 0.8598\n",
      "Epoch 52/100\n",
      "800/800 [==============================] - 1s 1ms/step - loss: 0.3501 - accuracy: 0.8537\n",
      "Epoch 53/100\n",
      "800/800 [==============================] - 1s 1ms/step - loss: 0.3364 - accuracy: 0.8616\n",
      "Epoch 54/100\n",
      "800/800 [==============================] - 1s 1ms/step - loss: 0.3432 - accuracy: 0.8610\n",
      "Epoch 55/100\n",
      "800/800 [==============================] - 1s 1ms/step - loss: 0.3504 - accuracy: 0.8572\n",
      "Epoch 56/100\n",
      "800/800 [==============================] - 1s 1ms/step - loss: 0.3402 - accuracy: 0.8600\n",
      "Epoch 57/100\n",
      "800/800 [==============================] - 1s 1ms/step - loss: 0.3306 - accuracy: 0.8658\n",
      "Epoch 58/100\n",
      "800/800 [==============================] - 1s 1ms/step - loss: 0.3405 - accuracy: 0.8663\n",
      "Epoch 59/100\n",
      "800/800 [==============================] - 1s 1ms/step - loss: 0.3373 - accuracy: 0.8660\n",
      "Epoch 60/100\n",
      "800/800 [==============================] - 1s 1ms/step - loss: 0.3380 - accuracy: 0.8604\n",
      "Epoch 61/100\n",
      "800/800 [==============================] - 1s 1ms/step - loss: 0.3400 - accuracy: 0.8625\n",
      "Epoch 62/100\n",
      "800/800 [==============================] - 1s 1ms/step - loss: 0.3349 - accuracy: 0.8678\n",
      "Epoch 63/100\n",
      "800/800 [==============================] - 1s 1ms/step - loss: 0.3308 - accuracy: 0.8643\n",
      "Epoch 64/100\n",
      "800/800 [==============================] - 1s 1ms/step - loss: 0.3413 - accuracy: 0.8594\n",
      "Epoch 65/100\n",
      "800/800 [==============================] - 1s 1ms/step - loss: 0.3428 - accuracy: 0.8626\n",
      "Epoch 66/100\n",
      "800/800 [==============================] - 1s 1ms/step - loss: 0.3306 - accuracy: 0.8640\n",
      "Epoch 67/100\n",
      "800/800 [==============================] - 1s 1ms/step - loss: 0.3517 - accuracy: 0.8572\n",
      "Epoch 68/100\n",
      "800/800 [==============================] - 1s 1ms/step - loss: 0.3553 - accuracy: 0.8545\n",
      "Epoch 69/100\n",
      "800/800 [==============================] - 1s 1ms/step - loss: 0.3281 - accuracy: 0.8668\n",
      "Epoch 70/100\n",
      "800/800 [==============================] - 1s 1ms/step - loss: 0.3251 - accuracy: 0.8669\n",
      "Epoch 71/100\n",
      "800/800 [==============================] - 1s 1ms/step - loss: 0.3405 - accuracy: 0.8576\n",
      "Epoch 72/100\n",
      "800/800 [==============================] - 1s 1ms/step - loss: 0.3283 - accuracy: 0.8676\n",
      "Epoch 73/100\n",
      "800/800 [==============================] - 1s 1ms/step - loss: 0.3443 - accuracy: 0.8593\n",
      "Epoch 74/100\n",
      "800/800 [==============================] - 1s 1ms/step - loss: 0.3375 - accuracy: 0.8597\n",
      "Epoch 75/100\n",
      "800/800 [==============================] - 1s 1ms/step - loss: 0.3357 - accuracy: 0.8652\n",
      "Epoch 76/100\n",
      "800/800 [==============================] - 1s 1ms/step - loss: 0.3345 - accuracy: 0.8620\n",
      "Epoch 77/100\n",
      "800/800 [==============================] - 1s 1ms/step - loss: 0.3451 - accuracy: 0.8587\n",
      "Epoch 78/100\n",
      "800/800 [==============================] - 1s 1ms/step - loss: 0.3348 - accuracy: 0.8668\n",
      "Epoch 79/100\n",
      "800/800 [==============================] - 1s 1ms/step - loss: 0.3285 - accuracy: 0.8628\n",
      "Epoch 80/100\n",
      "800/800 [==============================] - 1s 1ms/step - loss: 0.3348 - accuracy: 0.8624\n",
      "Epoch 81/100\n",
      "800/800 [==============================] - 1s 1ms/step - loss: 0.3447 - accuracy: 0.8577\n",
      "Epoch 82/100\n",
      "800/800 [==============================] - 1s 1ms/step - loss: 0.3428 - accuracy: 0.8595\n",
      "Epoch 83/100\n",
      "800/800 [==============================] - 1s 1ms/step - loss: 0.3287 - accuracy: 0.8658\n",
      "Epoch 84/100\n",
      "800/800 [==============================] - 1s 1ms/step - loss: 0.3332 - accuracy: 0.8644\n",
      "Epoch 85/100\n",
      "800/800 [==============================] - 1s 1ms/step - loss: 0.3274 - accuracy: 0.8681\n",
      "Epoch 86/100\n",
      "800/800 [==============================] - 1s 1ms/step - loss: 0.3269 - accuracy: 0.8660\n",
      "Epoch 87/100\n",
      "800/800 [==============================] - 1s 1ms/step - loss: 0.3273 - accuracy: 0.8666\n",
      "Epoch 88/100\n",
      "800/800 [==============================] - 1s 1ms/step - loss: 0.3500 - accuracy: 0.8517\n",
      "Epoch 89/100\n",
      "800/800 [==============================] - 1s 1ms/step - loss: 0.3478 - accuracy: 0.8573\n",
      "Epoch 90/100\n",
      "800/800 [==============================] - 1s 1ms/step - loss: 0.3270 - accuracy: 0.8635\n",
      "Epoch 91/100\n",
      "800/800 [==============================] - 1s 1ms/step - loss: 0.3398 - accuracy: 0.8603\n",
      "Epoch 92/100\n",
      "800/800 [==============================] - 1s 1ms/step - loss: 0.3305 - accuracy: 0.8655\n",
      "Epoch 93/100\n",
      "800/800 [==============================] - 1s 1ms/step - loss: 0.3293 - accuracy: 0.8654\n",
      "Epoch 94/100\n",
      "800/800 [==============================] - 1s 1ms/step - loss: 0.3335 - accuracy: 0.8636\n",
      "Epoch 95/100\n",
      "800/800 [==============================] - 1s 1ms/step - loss: 0.3279 - accuracy: 0.8711\n",
      "Epoch 96/100\n",
      "800/800 [==============================] - 1s 1ms/step - loss: 0.3239 - accuracy: 0.8667\n",
      "Epoch 97/100\n",
      "800/800 [==============================] - 1s 1ms/step - loss: 0.3300 - accuracy: 0.8644\n",
      "Epoch 98/100\n",
      "800/800 [==============================] - 1s 1ms/step - loss: 0.3385 - accuracy: 0.8618\n",
      "Epoch 99/100\n",
      "800/800 [==============================] - 1s 1ms/step - loss: 0.3225 - accuracy: 0.8713\n",
      "Epoch 100/100\n",
      "800/800 [==============================] - 1s 1ms/step - loss: 0.3288 - accuracy: 0.8650\n"
     ]
    },
    {
     "data": {
      "text/plain": [
       "<keras.callbacks.History at 0x7f5f4b181450>"
      ]
     },
     "execution_count": 131,
     "metadata": {
      "tags": []
     },
     "output_type": "execute_result"
    }
   ],
   "source": [
    "class_churn.fit(X_train, y_train, batch_size = 10, epochs = 100)"
   ]
  },
  {
   "cell_type": "code",
   "execution_count": 145,
   "metadata": {
    "colab": {
     "base_uri": "https://localhost:8080/",
     "height": 282
    },
    "id": "wqrrQPfuHpBV",
    "outputId": "bef05ecf-ab3c-4166-e32a-4e89751cf5e1"
   },
   "outputs": [
    {
     "data": {
      "image/png": "[encoded data removed]",
      "text/plain": [
       "<Figure size 432x288 with 1 Axes>"
      ]
     },
     "metadata": {
      "needs_background": "light",
      "tags": []
     },
     "output_type": "display_data"
    }
   ],
   "source": [
    "hist = pd.DataFrame(class_churn.history.history)\n",
    "hist['epoch'] = class_churn.history.epoch\n",
    "\n",
    "plt.plot(hist['loss'])\n",
    "plt.xlabel('Epoch---->')\n",
    "plt.ylabel('Loss---->');"
   ]
  },
  {
   "cell_type": "markdown",
   "metadata": {
    "id": "BwOdL2emEtcL"
   },
   "source": [
    "Agora podemos prever os resultados do nosso teste e depois precisaremos transformar para binário para verificar os resultados corretamente.\n"
   ]
  },
  {
   "cell_type": "code",
   "execution_count": 146,
   "metadata": {
    "id": "pSqKjOeiBr9K"
   },
   "outputs": [],
   "source": [
    "y_pred = class_churn.predict(X_test)\n"
   ]
  },
  {
   "cell_type": "code",
   "execution_count": 147,
   "metadata": {
    "colab": {
     "base_uri": "https://localhost:8080/"
    },
    "id": "ETZbKZwoCo-D",
    "outputId": "71509777-d783-4452-ae6b-906794a0a914"
   },
   "outputs": [
    {
     "data": {
      "text/plain": [
       "array([[0.2912271 ],\n",
       "       [0.31204855],\n",
       "       [0.18755221],\n",
       "       ...,\n",
       "       [0.2112853 ],\n",
       "       [0.19551781],\n",
       "       [0.18330932]], dtype=float32)"
      ]
     },
     "execution_count": 147,
     "metadata": {
      "tags": []
     },
     "output_type": "execute_result"
    }
   ],
   "source": [
    "y_pred"
   ]
  },
  {
   "cell_type": "code",
   "execution_count": 148,
   "metadata": {
    "id": "oXxd8EW-D1As"
   },
   "outputs": [],
   "source": [
    "y_pred = (y_pred > 0.5)"
   ]
  },
  {
   "cell_type": "code",
   "execution_count": 149,
   "metadata": {
    "id": "cLkmM19i_vwc"
   },
   "outputs": [],
   "source": [
    "cm = confusion_matrix(y_test, y_pred)"
   ]
  },
  {
   "cell_type": "code",
   "execution_count": 152,
   "metadata": {
    "colab": {
     "base_uri": "https://localhost:8080/",
     "height": 442
    },
    "id": "bj6yrHxLEKer",
    "outputId": "4fc40923-7e02-4216-a39e-0bb20c1b7bde"
   },
   "outputs": [
    {
     "data": {
      "image/png": "[encoded data removed]",
      "text/plain": [
       "<Figure size 720x504 with 2 Axes>"
      ]
     },
     "metadata": {
      "needs_background": "light",
      "tags": []
     },
     "output_type": "display_data"
    }
   ],
   "source": [
    "plt.figure(figsize = (10,7))\n",
    "sns.heatmap(cm, annot=True, fmt='d')\n",
    "plt.xlabel('Previsto')\n",
    "plt.ylabel('Real');"
   ]
  },
  {
   "cell_type": "code",
   "execution_count": 162,
   "metadata": {
    "colab": {
     "base_uri": "https://localhost:8080/"
    },
    "id": "ZJSMFNAsFU76",
    "outputId": "252d90f2-ea50-4562-d011-3937e93b625c"
   },
   "outputs": [
    {
     "name": "stdout",
     "output_type": "stream",
     "text": [
      "Accuracy Score : 0.8605\n",
      "Recall Score : 0.5382716049382716\n",
      "Precision Score : 0.7032258064516129\n"
     ]
    }
   ],
   "source": [
    "print('Accuracy Score :',accuracy_score(y_test, y_pred) )\n",
    "print('Recall Score :',recall_score(y_test, y_pred) )\n",
    "print('Precision Score :',precision_score(y_test, y_pred) )"
   ]
  },
  {
   "cell_type": "markdown",
   "metadata": {
    "id": "1_VCqrvK12Bx"
   },
   "source": [
    "[Voltar ao início](#top)\n",
    "\n",
    "\n"
   ]
  },
  {
   "cell_type": "markdown",
   "metadata": {
    "id": "4G_3lGk9LkL_"
   },
   "source": [
    "# Conclusão <a name=\"conclusao\"></a>"
   ]
  },
  {
   "cell_type": "markdown",
   "metadata": {
    "id": "NrFy2YIuLtW9"
   },
   "source": [
    "Nosso modelo teve uma acurácia de 86% porém uma precisão mais baixa com 70%. \n",
    "Essa precisão baixa, pode ser devida ao desbalanceamento atual da base, realizar um balanceamento seria interessante para verificar como nosso modelo vai se comportar.\n",
    "\n",
    "Cenas para o próximo capitulo."
   ]
  },
  {
   "cell_type": "markdown",
   "metadata": {
    "id": "sikGfFnLMUAl"
   },
   "source": [
    "[Voltar ao início](#top)\n"
   ]
  }
 ],
 "metadata": {
  "colab": {
   "collapsed_sections": [],
   "name": "Previsão de perda de clientes de um banco ",
   "provenance": []
  },
  "kernelspec": {
   "display_name": "Python 3",
   "language": "python",
   "name": "python3"
  },
  "language_info": {
   "codemirror_mode": {
    "name": "ipython",
    "version": 3
   },
   "file_extension": ".py",
   "mimetype": "text/x-python",
   "name": "python",
   "nbconvert_exporter": "python",
   "pygments_lexer": "ipython3",
   "version": "3.8.3"
  }
 },
 "nbformat": 4,
 "nbformat_minor": 4
}
